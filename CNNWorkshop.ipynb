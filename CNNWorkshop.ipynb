{
  "nbformat": 4,
  "nbformat_minor": 0,
  "metadata": {
    "colab": {
      "name": "CNNWorkshop.ipynb",
      "provenance": [],
      "collapsed_sections": [],
      "include_colab_link": true
    },
    "kernelspec": {
      "name": "python3",
      "display_name": "Python 3"
    },
    "accelerator": "GPU"
  },
  "cells": [
    {
      "cell_type": "markdown",
      "metadata": {
        "id": "view-in-github",
        "colab_type": "text"
      },
      "source": [
        "<a href=\"https://colab.research.google.com/github/Waynel65/deep-learning-project/blob/main/CNNWorkshop.ipynb\" target=\"_parent\"><img src=\"https://colab.research.google.com/assets/colab-badge.svg\" alt=\"Open In Colab\"/></a>"
      ]
    },
    {
      "cell_type": "code",
      "metadata": {
        "id": "c9M9sIItTIkL"
      },
      "source": [
        "import torchvision.datasets as datasets\n",
        "import torch\n",
        "import torch.nn as nn\n",
        "import torch.nn.functional as F\n",
        "import numpy as np\n",
        "import torch.optim as optim\n",
        "import matplotlib.pyplot as plt"
      ],
      "execution_count": null,
      "outputs": []
    },
    {
      "cell_type": "code",
      "metadata": {
        "id": "Gv7s47p2TK2f",
        "colab": {
          "base_uri": "https://localhost:8080/",
          "height": 156
        },
        "outputId": "df4d154e-0d17-4403-84df-e02c1cf92f2a"
      },
      "source": [
        "train = datasets.MNIST('./data', download=True, transform=None, train=True)\n",
        "test = datasets.MNIST('./data', download=True, transform=None, train=False)\n",
        "\n",
        "train_x = train.train_data.reshape(60000, 28, 28, 1).type(torch.FloatTensor).cuda()\n",
        "train_y = train.train_labels.type(torch.LongTensor).cuda()\n",
        "\n",
        "test_x = test.test_data.reshape(10000, 28, 28, 1).type(torch.FloatTensor).cuda()\n",
        "test_y = test.test_labels.type(torch.LongTensor).cuda()"
      ],
      "execution_count": null,
      "outputs": [
        {
          "output_type": "stream",
          "text": [
            "/usr/local/lib/python3.6/dist-packages/torchvision/datasets/mnist.py:53: UserWarning: train_data has been renamed data\n",
            "  warnings.warn(\"train_data has been renamed data\")\n",
            "/usr/local/lib/python3.6/dist-packages/torchvision/datasets/mnist.py:43: UserWarning: train_labels has been renamed targets\n",
            "  warnings.warn(\"train_labels has been renamed targets\")\n",
            "/usr/local/lib/python3.6/dist-packages/torchvision/datasets/mnist.py:58: UserWarning: test_data has been renamed data\n",
            "  warnings.warn(\"test_data has been renamed data\")\n",
            "/usr/local/lib/python3.6/dist-packages/torchvision/datasets/mnist.py:48: UserWarning: test_labels has been renamed targets\n",
            "  warnings.warn(\"test_labels has been renamed targets\")\n"
          ],
          "name": "stderr"
        }
      ]
    },
    {
      "cell_type": "code",
      "metadata": {
        "id": "nEnEso6NTnUX"
      },
      "source": [
        "class Network(nn.Module):\n",
        "  def __init__(self):\n",
        "    super(Network, self).__init__()\n",
        "    self.conv = nn.Conv2d(28, 9, stride=1, padding=1, kernel_size=3).cuda()\n",
        "    self.dense = nn.Linear(9*28, 10).cuda()\n",
        "    \n",
        "  def forward(self, x):\n",
        "    a1 = F.relu(self.conv(x))\n",
        "    a1 = a1.view(-1, 9*28)\n",
        "    return F.softmax(self.dense(a1))"
      ],
      "execution_count": null,
      "outputs": []
    },
    {
      "cell_type": "code",
      "metadata": {
        "id": "4AAA82j_UVOa",
        "colab": {
          "base_uri": "https://localhost:8080/",
          "height": 124
        },
        "outputId": "43debef0-f425-4201-9a4a-e52b6ba30b64"
      },
      "source": [
        "net = Network()\n",
        "val = net(train_x[0:1])\n",
        "print(val)"
      ],
      "execution_count": null,
      "outputs": [
        {
          "output_type": "stream",
          "text": [
            "tensor([[1.7223e-05, 7.8256e-04, 3.3067e-10, 1.4094e-04, 2.0464e-04, 1.0378e-07,\n",
            "         6.7499e-08, 2.6815e-10, 9.9885e-01, 7.4112e-13]], device='cuda:0',\n",
            "       grad_fn=<SoftmaxBackward>)\n"
          ],
          "name": "stdout"
        },
        {
          "output_type": "stream",
          "text": [
            "/usr/local/lib/python3.6/dist-packages/ipykernel_launcher.py:9: UserWarning: Implicit dimension choice for softmax has been deprecated. Change the call to include dim=X as an argument.\n",
            "  if __name__ == '__main__':\n"
          ],
          "name": "stderr"
        }
      ]
    },
    {
      "cell_type": "code",
      "metadata": {
        "id": "AZaGp6ZOUYPw",
        "colab": {
          "base_uri": "https://localhost:8080/",
          "height": 324
        },
        "outputId": "9703f1c7-3526-445a-a240-398aa2f85fcc"
      },
      "source": [
        "losses = []\n",
        "lossfunc = nn.CrossEntropyLoss()\n",
        "optimizer = optim.Adam(net.parameters(), lr=0.01)\n",
        "for i in range(100):\n",
        "  optimizer.zero_grad()\n",
        "  output = net(train_x)\n",
        "  loss = lossfunc(output, train_y)\n",
        "  loss.backward()\n",
        "  losses.append(loss)\n",
        "  optimizer.step()\n",
        "plt.plot(losses)\n",
        "plt.show()\n",
        "plt.close()"
      ],
      "execution_count": null,
      "outputs": [
        {
          "output_type": "stream",
          "text": [
            "/usr/local/lib/python3.6/dist-packages/ipykernel_launcher.py:9: UserWarning: Implicit dimension choice for softmax has been deprecated. Change the call to include dim=X as an argument.\n",
            "  if __name__ == '__main__':\n"
          ],
          "name": "stderr"
        },
        {
          "output_type": "display_data",
          "data": {
            "image/png": "[encoded data removed]",
            "text/plain": [
              "<Figure size 432x288 with 1 Axes>"
            ]
          },
          "metadata": {
            "tags": []
          }
        }
      ]
    },
    {
      "cell_type": "code",
      "metadata": {
        "id": "qO9-irlnVMga",
        "colab": {
          "base_uri": "https://localhost:8080/",
          "height": 117
        },
        "outputId": "0e6a862b-3db9-425a-ce57-d51ab23977bc"
      },
      "source": [
        "x = test_x[0:1]\n",
        "label = net(x).cpu().detach().numpy()\n",
        "print(np.argmax(label))\n",
        "test[0][0]"
      ],
      "execution_count": null,
      "outputs": [
        {
          "output_type": "stream",
          "text": [
            "7\n"
          ],
          "name": "stdout"
        },
        {
          "output_type": "stream",
          "text": [
            "/usr/local/lib/python3.6/dist-packages/ipykernel_launcher.py:9: UserWarning: Implicit dimension choice for softmax has been deprecated. Change the call to include dim=X as an argument.\n",
            "  if __name__ == '__main__':\n"
          ],
          "name": "stderr"
        },
        {
          "output_type": "execute_result",
          "data": {
            "image/png": "[encoded data removed]",
            "text/plain": [
              "<PIL.Image.Image image mode=L size=28x28 at 0x7F9BE3DE3780>"
            ]
          },
          "metadata": {
            "tags": []
          },
          "execution_count": 40
        }
      ]
    },
    {
      "cell_type": "code",
      "metadata": {
        "id": "YGVnQBtY65zf"
      },
      "source": [
        "np.argmax()"
      ],
      "execution_count": null,
      "outputs": []
    }
  ]
}